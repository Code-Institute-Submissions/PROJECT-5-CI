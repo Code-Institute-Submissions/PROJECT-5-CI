{
 "cells": [
  {
   "cell_type": "markdown",
   "metadata": {},
   "source": [
    "<h1>Import packages</h1>"
   ]
  },
  {
   "cell_type": "code",
   "execution_count": 1,
   "metadata": {},
   "outputs": [],
   "source": [
    "import numpy\n",
    "import os"
   ]
  },
  {
   "cell_type": "markdown",
   "metadata": {},
   "source": [
    "<h2>Set Kaggle Dataset and Download it</h2>"
   ]
  },
  {
   "cell_type": "code",
   "execution_count": 5,
   "metadata": {},
   "outputs": [
    {
     "name": "stdout",
     "output_type": "stream",
     "text": [
      "Warning: Your Kaggle API key is readable by other users on this system! To fix this, you can run 'chmod 600 /workspace/PROJECT-5-CI/jupyter_notebooks/kaggle.json'\n",
      "Downloading cherry-leaves.zip to inputs/cherry_dataset\r\n",
      "\r  0%|                                               | 0.00/55.0M [00:00<?, ?B/s]\r  9%|███▍                                  | 5.00M/55.0M [00:00<00:02, 25.5MB/s]\r 16%|██████▏                               | 9.00M/55.0M [00:00<00:01, 27.5MB/s]\r 45%|█████████████████▎                    | 25.0M/55.0M [00:00<00:01, 26.6MB/s]\r 75%|████████████████████████████▎         | 41.0M/55.0M [00:01<00:00, 38.6MB/s]\r 89%|█████████████████████████████████▊    | 49.0M/55.0M [00:01<00:00, 28.7MB/s]\r\n",
      "\r100%|██████████████████████████████████████| 55.0M/55.0M [00:01<00:00, 32.9MB/s]\r\n"
     ]
    }
   ],
   "source": [
    "KaggleDatasetPath = \"codeinstitute/cherry-leaves\"\n",
    "DestinationFolder = \"inputs/cherry_dataset\"   \n",
    "! kaggle datasets download -d {KaggleDatasetPath} -p {DestinationFolder}"
   ]
  },
  {
   "cell_type": "markdown",
   "metadata": {},
   "source": [
    "<h2>Unzip the downloaded file, delete the zip file</h2>"
   ]
  },
  {
   "cell_type": "code",
   "execution_count": 6,
   "metadata": {},
   "outputs": [],
   "source": [
    "import zipfile\n",
    "with zipfile.ZipFile(DestinationFolder + '/cherry-leaves.zip', 'r') as zip_ref:\n",
    "    zip_ref.extractall(DestinationFolder)\n",
    "\n",
    "os.remove(DestinationFolder + '/cherry-leaves.zip')\n",
    "\n"
   ]
  }
 ],
 "metadata": {
  "kernelspec": {
   "display_name": "Python 3",
   "language": "python",
   "name": "python3"
  },
  "language_info": {
   "codemirror_mode": {
    "name": "ipython",
    "version": 3
   },
   "file_extension": ".py",
   "mimetype": "text/x-python",
   "name": "python",
   "nbconvert_exporter": "python",
   "pygments_lexer": "ipython3",
   "version": "3.8.13"
  },
  "orig_nbformat": 4,
  "vscode": {
   "interpreter": {
    "hash": "110cc1dee26208153f2972f08a2ad52b6a56238dc66d48e87fb757ef2996db56"
   }
  }
 },
 "nbformat": 4,
 "nbformat_minor": 2
}
